{
  "cells": [
    {
      "cell_type": "markdown",
      "metadata": {
        "id": "view-in-github",
        "colab_type": "text"
      },
      "source": [
        "<a href=\"https://colab.research.google.com/github/rrfsantos/Segmentacao-de-Clientes-e-Predicao-de-Campanha-de-Marketing/blob/main/Classificacao.ipynb\" target=\"_parent\"><img src=\"https://colab.research.google.com/assets/colab-badge.svg\" alt=\"Open In Colab\"/></a>"
      ]
    },
    {
      "cell_type": "code",
      "source": [
        "#!python -m pip install -U matplotlib\n",
        "#!python -m pip install -U pandas"
      ],
      "metadata": {
        "id": "CODtBNT4SsBb"
      },
      "execution_count": 1,
      "outputs": []
    },
    {
      "cell_type": "code",
      "execution_count": 2,
      "metadata": {
        "id": "tkUYZn8ubvvY"
      },
      "outputs": [],
      "source": [
        "# Importando bibliotecas\n",
        "import pandas as pd\n",
        "import numpy as np\n",
        "import re\n",
        "import time\n",
        "import datetime as dt\n",
        "import itertools\n",
        "import warnings\n",
        "import seaborn as sns\n",
        "import plotly.express as px\n",
        "import matplotlib.ticker as mtick\n",
        "import glob as glob\n",
        "from matplotlib import pyplot as plt\n",
        "from matplotlib.pyplot import figure\n",
        "from sklearn.preprocessing import LabelEncoder\n",
        "from sklearn.preprocessing import StandardScaler\n",
        "from sklearn.utils import resample\n",
        "from sklearn.model_selection import train_test_split\n",
        "from sklearn.ensemble import RandomForestClassifier\n",
        "from sklearn.tree import DecisionTreeClassifier\n",
        "from sklearn.neighbors import KNeighborsClassifier\n",
        "from sklearn.linear_model import LogisticRegression\n",
        "from sklearn.metrics import classification_report\n",
        "from datetime import datetime\n",
        "\n",
        "%matplotlib inline\n",
        "warnings.filterwarnings('ignore')\n",
        "np.random.seed(0)"
      ]
    },
    {
      "cell_type": "code",
      "execution_count": 3,
      "metadata": {
        "colab": {
          "base_uri": "https://localhost:8080/"
        },
        "id": "5lhEoFBAb48S",
        "outputId": "03a4f4da-1d87-466f-f446-15143dfacd58"
      },
      "outputs": [
        {
          "output_type": "stream",
          "name": "stdout",
          "text": [
            "Mounted at /content/drive\n"
          ]
        }
      ],
      "source": [
        "from google.colab import drive\n",
        "drive.mount('/content/drive')\n",
        "\n",
        "import os\n",
        "workdir_path = '/content/drive/My Drive/iFood/'  # Inserir o local da pasta onde estão os arquivos de entrada (treino e teste)\n",
        "os.chdir(workdir_path)"
      ]
    },
    {
      "cell_type": "markdown",
      "source": [
        "### Pré processamento do Dataset para entrada nos modelos de Machine Learning"
      ],
      "metadata": {
        "id": "idGGV-YGM_oP"
      }
    },
    {
      "cell_type": "code",
      "execution_count": 4,
      "metadata": {
        "id": "BI1EnLgpD4tk"
      },
      "outputs": [],
      "source": [
        "# Carregando dataset\n",
        "data = pd.read_csv('ml_project1_data.csv', engine='python')"
      ]
    },
    {
      "cell_type": "code",
      "source": [
        "# Substituindo valores nulos na coluna 'Income' pela mediana - A base é muito pequena, melhor não deletar linhas\n",
        "df = data.copy()\n",
        "median_value = df.Income.median()\n",
        "df.Income.fillna(value = median_value, inplace=True)"
      ],
      "metadata": {
        "id": "EIyf5L9oIirv"
      },
      "execution_count": 5,
      "outputs": []
    },
    {
      "cell_type": "code",
      "source": [
        "# Removendo as colunas Z_CostContact e Z_Revenue\n",
        "df.drop(columns=['ID', 'Z_CostContact',\t'Z_Revenue'], inplace=True)"
      ],
      "metadata": {
        "id": "l9pV9C98BdT1"
      },
      "execution_count": 6,
      "outputs": []
    },
    {
      "cell_type": "code",
      "source": [
        "# Tranformando a coluna Dt_Customer em número de dias (data fim 2015-01-01)\n",
        "end_date = datetime.strptime('2015-01-01', '%Y-%m-%d')\n",
        "df['Dt_Customer'] = pd.to_datetime(df['Dt_Customer'], format='%Y.%m.%d')\n",
        "\n",
        "days = lambda x: int((end_date - x).days)\n",
        "df.Dt_Customer = df.Dt_Customer.apply(days)"
      ],
      "metadata": {
        "id": "P4mW4Hlwv8kZ"
      },
      "execution_count": 7,
      "outputs": []
    },
    {
      "cell_type": "code",
      "source": [
        "# Substituindo 'Alone', 'Absurd' e 'YOLO' por 'Single'\n",
        "single = lambda x: re.sub(r'Alone|Absurd|YOLO', 'Single', x)\n",
        "df.Marital_Status = df.Marital_Status.apply(single)"
      ],
      "metadata": {
        "id": "oggZu2IGvlIk"
      },
      "execution_count": 8,
      "outputs": []
    },
    {
      "cell_type": "code",
      "source": [
        "# Substituindo ano menor que 1920 na coluna 'Year_Birth' pela mediana\n",
        "median_value = df.Year_Birth.median()\n",
        "mask = df.Year_Birth < 1920\n",
        "column_name = 'Year_Birth'\n",
        "df.loc[mask, column_name] = median_value"
      ],
      "metadata": {
        "id": "0IevU5SZxRqM"
      },
      "execution_count": 9,
      "outputs": []
    },
    {
      "cell_type": "code",
      "source": [
        "# Removendo renda maior que 100k - Estava interferindo na construção dos clusters\n",
        "df.drop(df[df.Income > 100000].index, inplace=True)"
      ],
      "metadata": {
        "id": "nlZ1Y3PmpngF"
      },
      "execution_count": 10,
      "outputs": []
    },
    {
      "cell_type": "code",
      "source": [
        "# Substituindo features correlacionadas por sua média\n",
        "column = df.loc[: , 'MntWines':'MntGoldProds']\n",
        "df['MntProducts'] = column.mean(axis=1)\n",
        "df.drop(columns=['MntWines', 'MntFruits', 'MntMeatProducts', 'MntFishProducts', 'MntSweetProducts','MntGoldProds'], inplace=True)"
      ],
      "metadata": {
        "id": "GC4mEp0V0SGb"
      },
      "execution_count": 11,
      "outputs": []
    },
    {
      "cell_type": "code",
      "source": [
        "# Substituindo features correlacionadas por sua média\n",
        "column = df.loc[: , 'AcceptedCmp3':'AcceptedCmp2']\n",
        "df['AcceptedCmp'] = column.mean(axis=1)\n",
        "df.drop(columns=['AcceptedCmp3', 'AcceptedCmp4', 'AcceptedCmp5','AcceptedCmp1', 'AcceptedCmp2'], inplace=True)"
      ],
      "metadata": {
        "id": "1x5MAGGy3UVr"
      },
      "execution_count": 12,
      "outputs": []
    },
    {
      "cell_type": "code",
      "source": [
        "# Transformando variáveis não numéricas em numéricas\n",
        "le_e = LabelEncoder()\n",
        "df['Education'] = le_e.fit_transform(df['Education'])\n",
        "\n",
        "le_m = LabelEncoder()\n",
        "df['Marital_Status']  = le_m.fit_transform(df['Marital_Status'])"
      ],
      "metadata": {
        "id": "4agb16Px0_gt"
      },
      "execution_count": 13,
      "outputs": []
    },
    {
      "cell_type": "code",
      "source": [
        "# Normalizando os dados\n",
        "df_norm = df.iloc[:, 1:]\n",
        "df_c = pd.DataFrame(df.Response, columns=['Response'])\n",
        "std_scaler = StandardScaler()\n",
        "scaler = std_scaler.fit_transform(df_norm)\n",
        "df_normalized = pd.DataFrame(scaler)\n",
        "\n",
        "df = pd.concat([df_c.reset_index(), df_normalized.reset_index()], axis = 1, sort=False)\n",
        "df.drop(columns=['index'], inplace=True)"
      ],
      "metadata": {
        "id": "8-3PX-Gb0pAG"
      },
      "execution_count": 14,
      "outputs": []
    },
    {
      "cell_type": "code",
      "source": [
        "# Balanceando o dataset - upsample\n",
        "print('Antes:', df.shape)\n",
        "\n",
        "df_1 = df[df['Response'] == 1]\n",
        "df_0 = df[df['Response'] == 0]  \n",
        "df_1_upsampled = resample(df_1, n_samples=len(df_0), replace=True)\n",
        "df = pd.concat([df_1_upsampled,df_0])\n",
        "\n",
        "print('Depois:', df.shape)"
      ],
      "metadata": {
        "colab": {
          "base_uri": "https://localhost:8080/"
        },
        "id": "nw4imAHp0uiV",
        "outputId": "cac5f3f9-cc72-4fe2-fb5e-53f1a196b31e"
      },
      "execution_count": 15,
      "outputs": [
        {
          "output_type": "stream",
          "name": "stdout",
          "text": [
            "Antes: (2227, 17)\n",
            "Depois: (3794, 17)\n"
          ]
        }
      ]
    },
    {
      "cell_type": "markdown",
      "source": [
        "## Previsão de adesão à campanha"
      ],
      "metadata": {
        "id": "A4s4aqa8B4pc"
      }
    },
    {
      "cell_type": "code",
      "source": [
        "# Dividindo a base em treino e teste\n",
        "df['Response'] = df['Response'].astype('category')\n",
        "X = df.loc[:, df.columns != 'Response']\n",
        "y = df.Response\n",
        "\n",
        "X_train, X_test, y_train, y_test = train_test_split(X, y, test_size=0.2, shuffle=True)"
      ],
      "metadata": {
        "id": "KbVfNsQ6zerx"
      },
      "execution_count": 16,
      "outputs": []
    },
    {
      "cell_type": "markdown",
      "source": [
        "### Random Forest"
      ],
      "metadata": {
        "id": "HjyVpzhZChXd"
      }
    },
    {
      "cell_type": "code",
      "source": [
        "# Random Forest\n",
        "begin_time = dt.datetime.now()\n",
        "\n",
        "random_forest = RandomForestClassifier(n_estimators=150, min_samples_leaf=3, max_features=0.5, n_jobs=-1)\n",
        "random_forest.fit(X_train, y_train)\n",
        "\n",
        "random_forest.score(X_train, y_train)\n",
        "acc_random_forest = round(random_forest.score(X_train, y_train) * 100, 2)\n",
        "print('Acurácia do modelo RandomForestClassifier:', acc_random_forest,\"\\n\")\n",
        "\n",
        "y_pred1 = random_forest.predict(X_test)\n",
        "\n",
        "# Matrix de Confusão\n",
        "print(pd.crosstab(y_test, y_pred1, rownames=[\"Real\"], colnames=[\"Predict\"], margins=True), '\\n')\n",
        "\n",
        "report = (classification_report(y_test, y_pred1, output_dict=True))\n",
        "df_class_report = pd.DataFrame(report).transpose()\n",
        "df_class_report.to_csv('/content/drive/MyDrive/iFood/report/random_forest.csv', encoding='utf-8')\n",
        "\n",
        "time_rf = (dt.datetime.now() - begin_time)"
      ],
      "metadata": {
        "colab": {
          "base_uri": "https://localhost:8080/"
        },
        "id": "SO2g1460-iw2",
        "outputId": "2cb129e4-c4a0-4fa3-f171-0ba719bd4e4a"
      },
      "execution_count": 17,
      "outputs": [
        {
          "output_type": "stream",
          "name": "stdout",
          "text": [
            "Acurácia do modelo RandomForestClassifier: 100.0 \n",
            "\n",
            "Predict    0    1  All\n",
            "Real                  \n",
            "0        393    0  393\n",
            "1          0  366  366\n",
            "All      393  366  759 \n",
            "\n"
          ]
        }
      ]
    },
    {
      "cell_type": "markdown",
      "source": [
        "### Decision Tree"
      ],
      "metadata": {
        "id": "fBVbR5Lk2010"
      }
    },
    {
      "cell_type": "code",
      "source": [
        "# Decision Tree\n",
        "begin_time = dt.datetime.now()\n",
        "\n",
        "decision_tree = DecisionTreeClassifier(max_depth = 16)\n",
        "decision_tree.fit(X_train, y_train)\n",
        "\n",
        "y_pred2 = decision_tree.predict(X_test)\n",
        "\n",
        "acc_decision_tree = round(decision_tree.score(X_train, y_train) * 100, 2)\n",
        "print('Acurácia do modelo DecisionTreeClassifier:',acc_decision_tree, \"\\n\")\n",
        "\n",
        "# Matrix de Confusão\n",
        "print(pd.crosstab(y_test, y_pred2, rownames=[\"Real\"], colnames=[\"Predict\"], margins=True))\n",
        "\n",
        "# Classification Report\n",
        "report = (classification_report(y_test, y_pred2, output_dict=True))\n",
        "df_class_report = pd.DataFrame(report).transpose()\n",
        "df_class_report.to_csv('/content/drive/MyDrive/iFood/report/decision_tree.csv', encoding='utf-8')\n",
        "\n",
        "time_d3 = (dt.datetime.now() - begin_time)"
      ],
      "metadata": {
        "id": "sGrQidTPky8q",
        "colab": {
          "base_uri": "https://localhost:8080/"
        },
        "outputId": "5ed71349-d01b-402e-9c13-8173dbc2653c"
      },
      "execution_count": 18,
      "outputs": [
        {
          "output_type": "stream",
          "name": "stdout",
          "text": [
            "Acurácia do modelo DecisionTreeClassifier: 100.0 \n",
            "\n",
            "Predict    0    1  All\n",
            "Real                  \n",
            "0        393    0  393\n",
            "1          0  366  366\n",
            "All      393  366  759\n"
          ]
        }
      ]
    },
    {
      "cell_type": "markdown",
      "source": [
        "### KNN"
      ],
      "metadata": {
        "id": "uToxqJfI3Eu7"
      }
    },
    {
      "cell_type": "code",
      "source": [
        "# KNN\n",
        "begin_time = dt.datetime.now()\n",
        "\n",
        "knn = KNeighborsClassifier(n_neighbors = 3, weights= 'distance')\n",
        "knn.fit(X_train, y_train)\n",
        "\n",
        "y_pred3 = knn.predict(X_test)\n",
        "\n",
        "acc_knn = round(knn.score(X_train, y_train) * 100, 2)\n",
        "print('Acurácia do modelo KNeighborsClassifier:',acc_knn, \"\\n\")\n",
        "\n",
        "# Matrix de Confusão\n",
        "print(pd.crosstab(y_test, y_pred3, rownames=[\"Real\"], colnames=[\"Predict\"], margins=True))\n",
        "\n",
        "# Classification Report\n",
        "report = (classification_report(y_test, y_pred3, output_dict=True))\n",
        "df_class_report = pd.DataFrame(report).transpose()\n",
        "df_class_report.to_csv('/content/drive/MyDrive/iFood/report/knn.csv', encoding='utf-8')\n",
        "\n",
        "\n",
        "time_knn = (dt.datetime.now() - begin_time)"
      ],
      "metadata": {
        "id": "S0qMjB2l6a3t",
        "colab": {
          "base_uri": "https://localhost:8080/"
        },
        "outputId": "12463d36-97a0-49dd-ca60-23a5caee12a2"
      },
      "execution_count": 19,
      "outputs": [
        {
          "output_type": "stream",
          "name": "stdout",
          "text": [
            "Acurácia do modelo KNeighborsClassifier: 100.0 \n",
            "\n",
            "Predict    0    1  All\n",
            "Real                  \n",
            "0        392    1  393\n",
            "1          0  366  366\n",
            "All      392  367  759\n"
          ]
        }
      ]
    },
    {
      "cell_type": "markdown",
      "source": [
        "### Logistic Regression"
      ],
      "metadata": {
        "id": "vkmPjRfJ3QRa"
      }
    },
    {
      "cell_type": "code",
      "source": [
        "# Logistic Regression\n",
        "begin_time = dt.datetime.now()\n",
        "\n",
        "logreg = LogisticRegression()\n",
        "logreg.fit(X_train, y_train)\n",
        "\n",
        "acc_log = round(logreg.score(X_train, y_train) * 100, 2)\n",
        "print('Acurácia do modelo LogisticRegression:',acc_log, \"\\n\")\n",
        "\n",
        "y_pred4 = logreg.predict(X_test)\n",
        "\n",
        "# Matrix de Confusão\n",
        "print(pd.crosstab(y_test,y_pred4, rownames=[\"Real\"], colnames=[\"Predict\"], margins=True))\n",
        "\n",
        "# Classification Report\n",
        "report = (classification_report(y_test, y_pred4, output_dict=True))\n",
        "df_class_report = pd.DataFrame(report).transpose()\n",
        "df_class_report.to_csv('/content/drive/MyDrive/iFood/report/log_reg.csv', encoding='utf-8')\n",
        "\n",
        "time_lg = (dt.datetime.now() - begin_time)"
      ],
      "metadata": {
        "colab": {
          "base_uri": "https://localhost:8080/"
        },
        "id": "gDSCf_qC3PZL",
        "outputId": "e69b36ac-9c8b-43f7-89cb-b035b1b7ab46"
      },
      "execution_count": 20,
      "outputs": [
        {
          "output_type": "stream",
          "name": "stdout",
          "text": [
            "Acurácia do modelo LogisticRegression: 100.0 \n",
            "\n",
            "Predict    0    1  All\n",
            "Real                  \n",
            "0        393    0  393\n",
            "1          0  366  366\n",
            "All      393  366  759\n"
          ]
        }
      ]
    },
    {
      "cell_type": "code",
      "source": [
        "# Tempo de processamento de cada modelo\n",
        "results = pd.DataFrame({\n",
        "    'Model': ['Random Forest','KNN','Decision Tree','Logistic Regression'],\n",
        "    'Time': [time_rf, time_d3, time_knn, time_knn]})\n",
        "    \n",
        "result_df = results.sort_values(by='Time', ascending=True)\n",
        "result_df = result_df.set_index('Time')\n",
        "result_df.head(9)"
      ],
      "metadata": {
        "colab": {
          "base_uri": "https://localhost:8080/",
          "height": 206
        },
        "id": "p7wJcuVO3d40",
        "outputId": "89f65291-b45d-4cf6-a36a-c945a0eca3ac"
      },
      "execution_count": 21,
      "outputs": [
        {
          "output_type": "execute_result",
          "data": {
            "text/plain": [
              "                                      Model\n",
              "Time                                       \n",
              "0 days 00:00:00.193699                  KNN\n",
              "0 days 00:00:00.621868        Decision Tree\n",
              "0 days 00:00:00.621868  Logistic Regression\n",
              "0 days 00:00:01.210408        Random Forest"
            ],
            "text/html": [
              "\n",
              "  <div id=\"df-a9e2551d-5202-4723-8b2f-d3e993ff6bd0\">\n",
              "    <div class=\"colab-df-container\">\n",
              "      <div>\n",
              "<style scoped>\n",
              "    .dataframe tbody tr th:only-of-type {\n",
              "        vertical-align: middle;\n",
              "    }\n",
              "\n",
              "    .dataframe tbody tr th {\n",
              "        vertical-align: top;\n",
              "    }\n",
              "\n",
              "    .dataframe thead th {\n",
              "        text-align: right;\n",
              "    }\n",
              "</style>\n",
              "<table border=\"1\" class=\"dataframe\">\n",
              "  <thead>\n",
              "    <tr style=\"text-align: right;\">\n",
              "      <th></th>\n",
              "      <th>Model</th>\n",
              "    </tr>\n",
              "    <tr>\n",
              "      <th>Time</th>\n",
              "      <th></th>\n",
              "    </tr>\n",
              "  </thead>\n",
              "  <tbody>\n",
              "    <tr>\n",
              "      <th>0 days 00:00:00.193699</th>\n",
              "      <td>KNN</td>\n",
              "    </tr>\n",
              "    <tr>\n",
              "      <th>0 days 00:00:00.621868</th>\n",
              "      <td>Decision Tree</td>\n",
              "    </tr>\n",
              "    <tr>\n",
              "      <th>0 days 00:00:00.621868</th>\n",
              "      <td>Logistic Regression</td>\n",
              "    </tr>\n",
              "    <tr>\n",
              "      <th>0 days 00:00:01.210408</th>\n",
              "      <td>Random Forest</td>\n",
              "    </tr>\n",
              "  </tbody>\n",
              "</table>\n",
              "</div>\n",
              "      <button class=\"colab-df-convert\" onclick=\"convertToInteractive('df-a9e2551d-5202-4723-8b2f-d3e993ff6bd0')\"\n",
              "              title=\"Convert this dataframe to an interactive table.\"\n",
              "              style=\"display:none;\">\n",
              "        \n",
              "  <svg xmlns=\"http://www.w3.org/2000/svg\" height=\"24px\"viewBox=\"0 0 24 24\"\n",
              "       width=\"24px\">\n",
              "    <path d=\"M0 0h24v24H0V0z\" fill=\"none\"/>\n",
              "    <path d=\"M18.56 5.44l.94 2.06.94-2.06 2.06-.94-2.06-.94-.94-2.06-.94 2.06-2.06.94zm-11 1L8.5 8.5l.94-2.06 2.06-.94-2.06-.94L8.5 2.5l-.94 2.06-2.06.94zm10 10l.94 2.06.94-2.06 2.06-.94-2.06-.94-.94-2.06-.94 2.06-2.06.94z\"/><path d=\"M17.41 7.96l-1.37-1.37c-.4-.4-.92-.59-1.43-.59-.52 0-1.04.2-1.43.59L10.3 9.45l-7.72 7.72c-.78.78-.78 2.05 0 2.83L4 21.41c.39.39.9.59 1.41.59.51 0 1.02-.2 1.41-.59l7.78-7.78 2.81-2.81c.8-.78.8-2.07 0-2.86zM5.41 20L4 18.59l7.72-7.72 1.47 1.35L5.41 20z\"/>\n",
              "  </svg>\n",
              "      </button>\n",
              "      \n",
              "  <style>\n",
              "    .colab-df-container {\n",
              "      display:flex;\n",
              "      flex-wrap:wrap;\n",
              "      gap: 12px;\n",
              "    }\n",
              "\n",
              "    .colab-df-convert {\n",
              "      background-color: #E8F0FE;\n",
              "      border: none;\n",
              "      border-radius: 50%;\n",
              "      cursor: pointer;\n",
              "      display: none;\n",
              "      fill: #1967D2;\n",
              "      height: 32px;\n",
              "      padding: 0 0 0 0;\n",
              "      width: 32px;\n",
              "    }\n",
              "\n",
              "    .colab-df-convert:hover {\n",
              "      background-color: #E2EBFA;\n",
              "      box-shadow: 0px 1px 2px rgba(60, 64, 67, 0.3), 0px 1px 3px 1px rgba(60, 64, 67, 0.15);\n",
              "      fill: #174EA6;\n",
              "    }\n",
              "\n",
              "    [theme=dark] .colab-df-convert {\n",
              "      background-color: #3B4455;\n",
              "      fill: #D2E3FC;\n",
              "    }\n",
              "\n",
              "    [theme=dark] .colab-df-convert:hover {\n",
              "      background-color: #434B5C;\n",
              "      box-shadow: 0px 1px 3px 1px rgba(0, 0, 0, 0.15);\n",
              "      filter: drop-shadow(0px 1px 2px rgba(0, 0, 0, 0.3));\n",
              "      fill: #FFFFFF;\n",
              "    }\n",
              "  </style>\n",
              "\n",
              "      <script>\n",
              "        const buttonEl =\n",
              "          document.querySelector('#df-a9e2551d-5202-4723-8b2f-d3e993ff6bd0 button.colab-df-convert');\n",
              "        buttonEl.style.display =\n",
              "          google.colab.kernel.accessAllowed ? 'block' : 'none';\n",
              "\n",
              "        async function convertToInteractive(key) {\n",
              "          const element = document.querySelector('#df-a9e2551d-5202-4723-8b2f-d3e993ff6bd0');\n",
              "          const dataTable =\n",
              "            await google.colab.kernel.invokeFunction('convertToInteractive',\n",
              "                                                     [key], {});\n",
              "          if (!dataTable) return;\n",
              "\n",
              "          const docLinkHtml = 'Like what you see? Visit the ' +\n",
              "            '<a target=\"_blank\" href=https://colab.research.google.com/notebooks/data_table.ipynb>data table notebook</a>'\n",
              "            + ' to learn more about interactive tables.';\n",
              "          element.innerHTML = '';\n",
              "          dataTable['output_type'] = 'display_data';\n",
              "          await google.colab.output.renderOutput(dataTable, element);\n",
              "          const docLink = document.createElement('div');\n",
              "          docLink.innerHTML = docLinkHtml;\n",
              "          element.appendChild(docLink);\n",
              "        }\n",
              "      </script>\n",
              "    </div>\n",
              "  </div>\n",
              "  "
            ]
          },
          "metadata": {},
          "execution_count": 21
        }
      ]
    },
    {
      "cell_type": "markdown",
      "source": [
        "## Métricas de Avaliação"
      ],
      "metadata": {
        "id": "hrv3K7hOCWKr"
      }
    },
    {
      "cell_type": "code",
      "source": [
        "reports = glob.glob('/content/drive/MyDrive/iFood/report/*.csv')"
      ],
      "metadata": {
        "id": "0nfe5TrNn7LK"
      },
      "execution_count": 22,
      "outputs": []
    },
    {
      "cell_type": "code",
      "source": [
        "df_metrica = pd.DataFrame()\n",
        "acc = []\n",
        "report_name = []\n",
        "for i in range(len(reports)):\n",
        "    base = os.path.basename(reports[i])\n",
        "    report_name.append(os.path.splitext(base)[0])\n",
        "    d = pd.read_csv(reports[i]).T\n",
        "    new_header = d.iloc[0]\n",
        "    d = d[1:]\n",
        "    d.columns = new_header\n",
        "    acc.append(list(np.unique(d.accuracy.astype(float))))\n",
        "    d.set_axis(['precision', 'recall', 'f1-score', 'support'], axis=0, inplace=True)\n",
        "    df_metrica = df_metrica.append(d) \n",
        "df_metrica['metrica'] = df_metrica.index"
      ],
      "metadata": {
        "id": "Ws5Bp0Spw4IG"
      },
      "execution_count": 23,
      "outputs": []
    },
    {
      "cell_type": "code",
      "source": [
        "acc = list(itertools.chain.from_iterable(acc))"
      ],
      "metadata": {
        "id": "2PVQ11k6xQVB"
      },
      "execution_count": 24,
      "outputs": []
    },
    {
      "cell_type": "markdown",
      "source": [
        "### Acurária para cada Modelo"
      ],
      "metadata": {
        "id": "9eIQ6czI_292"
      }
    },
    {
      "cell_type": "code",
      "source": [
        "figure(figsize=(10, 5))\n",
        "ax = plt.axes()\n",
        "ax.bar(report_name, acc, label='Accuracy', color='g')\n",
        "for x,y in zip(report_name, acc):\n",
        "    label = \"{:.2%}\".format(y)\n",
        "    plt.annotate(label, (x,y), textcoords=\"offset points\", xytext=(0,10), ha='center', fontsize=12)\n",
        "\n",
        "plt.xticks(report_name)\n",
        "plt.ylim(0.5,1)\n",
        "ax.yaxis.set_major_formatter(mtick.PercentFormatter(xmax=1, decimals=None, symbol='%', is_latex=False))\n",
        "\n",
        "plt.legend(loc='lower right', fontsize = 12)\n",
        "plt.xlabel('Modelos', fontsize = 16)\n",
        "plt.ylabel('Accuracy', fontsize = 16)\n",
        "plt.title('Accuracy\\n', fontsize = 20)\n",
        "plt.ylim(0, 1.2)\n",
        "plt.show();"
      ],
      "metadata": {
        "colab": {
          "base_uri": "https://localhost:8080/",
          "height": 383
        },
        "id": "RFngSiYX1S8S",
        "outputId": "dcf75a70-fe72-46c7-be42-a141d4cd54f8"
      },
      "execution_count": 25,
      "outputs": [
        {
          "output_type": "display_data",
          "data": {
            "text/plain": [
              "<Figure size 720x360 with 1 Axes>"
            ],
            "image/png": "[encoded data removed]"
          },
          "metadata": {
            "needs_background": "light"
          }
        }
      ]
    },
    {
      "cell_type": "markdown",
      "source": [
        "### Precisão para cada Modelo"
      ],
      "metadata": {
        "id": "h0TWg7ae_9Ps"
      }
    },
    {
      "cell_type": "code",
      "source": [
        "df_metrica.columns = df_metrica.columns.astype(str)\n",
        "df_metrica = df_metrica.rename(columns={'0': 'No', '1': 'Yes'})\n",
        "df_precision = df_metrica[df_metrica['metrica']=='precision']"
      ],
      "metadata": {
        "id": "6eA0nYzz6Jzx"
      },
      "execution_count": 26,
      "outputs": []
    },
    {
      "cell_type": "code",
      "source": [
        "no = df_precision['No']\n",
        "yes = df_precision['Yes']\n",
        "\n",
        "figure(figsize=(10, 5))\n",
        "ax = plt.axes()\n",
        "\n",
        "ax.bar(report_name, no, label='No', color='g')\n",
        "for x,y in zip(report_name, no):\n",
        "    label = \"{:.2%}\".format(y)\n",
        "    plt.annotate(label, (x,y), textcoords=\"offset points\", xytext=(0,10), ha='right', fontsize=12) \n",
        "\n",
        "ax.bar(report_name, yes, label='Yes', color='r')\n",
        "for x,y in zip(report_name, yes):\n",
        "    label = \"{:.2%}\".format(y)\n",
        "    plt.annotate(label, (x,y), textcoords=\"offset points\", xytext=(0,10), ha='left', fontsize=12)\n",
        "\n",
        "plt.xticks(report_name)\n",
        "plt.ylim(0.5,1)\n",
        "ax.yaxis.set_major_formatter(mtick.PercentFormatter(xmax=1, decimals=None, symbol='%', is_latex=False))\n",
        "\n",
        "plt.legend(loc='lower right', bbox_to_anchor=(1.15, 1), fontsize=12)\n",
        "plt.xlabel('Modelos', fontsize = 16)\n",
        "plt.ylabel('Precision', fontsize = 16)\n",
        "plt.title('Precision\\n', fontsize = 20)\n",
        "plt.ylim(0, 1.3)\n",
        "plt.show();"
      ],
      "metadata": {
        "colab": {
          "base_uri": "https://localhost:8080/",
          "height": 387
        },
        "id": "aYnMt5g82R_L",
        "outputId": "df64ad04-56d6-42f4-c70c-50ef0b69d123"
      },
      "execution_count": 27,
      "outputs": [
        {
          "output_type": "display_data",
          "data": {
            "text/plain": [
              "<Figure size 720x360 with 1 Axes>"
            ],
            "image/png": "[encoded data removed]"
          },
          "metadata": {
            "needs_background": "light"
          }
        }
      ]
    },
    {
      "cell_type": "markdown",
      "source": [
        "### Recall para cada Modelo"
      ],
      "metadata": {
        "id": "p_rcn3YlAGgi"
      }
    },
    {
      "cell_type": "code",
      "source": [
        "df_recall = df_metrica[df_metrica['metrica']=='recall']"
      ],
      "metadata": {
        "id": "wOjKKqIY-34P"
      },
      "execution_count": 28,
      "outputs": []
    },
    {
      "cell_type": "code",
      "source": [
        "no = df_recall['No']\n",
        "yes = df_recall['Yes']\n",
        "\n",
        "figure(figsize=(10, 5))\n",
        "\n",
        "ax = plt.axes()\n",
        "\n",
        "ax.bar(report_name, no, label='No', color='g')\n",
        "for x,y in zip(report_name, no):\n",
        "    label = \"{:.2%}\".format(y)\n",
        "    plt.annotate(label, (x,y), textcoords=\"offset points\", xytext=(0,10), ha='right', fontsize=12) \n",
        "\n",
        "ax.bar(report_name, yes, label='Yes', color='r')\n",
        "for x,y in zip(report_name, yes):\n",
        "    label = \"{:.2%}\".format(y)\n",
        "    plt.annotate(label, (x,y), textcoords=\"offset points\", xytext=(0,10), ha='left', fontsize=12)\n",
        "  \n",
        "plt.xticks(report_name)\n",
        "plt.ylim(0.5,1)\n",
        "ax.yaxis.set_major_formatter(mtick.PercentFormatter(xmax=1, decimals=None, symbol='%', is_latex=False))\n",
        "\n",
        "plt.legend(loc='lower right', bbox_to_anchor=(1.15, 1), fontsize=12)\n",
        "plt.xlabel('Modelos', fontsize = 16)\n",
        "plt.ylabel('Recall', fontsize = 16)\n",
        "plt.title('Recall\\n', fontsize = 20)\n",
        "plt.ylim(0, 1.3)\n",
        "plt.show();"
      ],
      "metadata": {
        "colab": {
          "base_uri": "https://localhost:8080/",
          "height": 387
        },
        "id": "fe_34eSk-TFM",
        "outputId": "bd6aa3ad-9757-4ce2-b311-47dcaa99f7fe"
      },
      "execution_count": 29,
      "outputs": [
        {
          "output_type": "display_data",
          "data": {
            "text/plain": [
              "<Figure size 720x360 with 1 Axes>"
            ],
            "image/png": "[encoded data removed]"
          },
          "metadata": {
            "needs_background": "light"
          }
        }
      ]
    },
    {
      "cell_type": "code",
      "source": [
        ""
      ],
      "metadata": {
        "id": "8HrZGwrV3ekf"
      },
      "execution_count": 29,
      "outputs": []
    }
  ],
  "metadata": {
    "colab": {
      "collapsed_sections": [],
      "machine_shape": "hm",
      "name": "Classificacao.ipynb",
      "provenance": [],
      "include_colab_link": true
    },
    "kernelspec": {
      "display_name": "Python 3",
      "language": "python",
      "name": "python3"
    }
  },
  "nbformat": 4,
  "nbformat_minor": 0
}